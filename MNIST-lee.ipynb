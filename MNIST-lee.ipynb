{
  "nbformat": 4,
  "nbformat_minor": 0,
  "metadata": {
    "colab": {
      "provenance": []
    },
    "kernelspec": {
      "name": "python3",
      "display_name": "Python 3"
    },
    "language_info": {
      "name": "python"
    }
  },
  "cells": [
    {
      "cell_type": "code",
      "execution_count": null,
      "metadata": {
        "colab": {
          "base_uri": "https://localhost:8080/"
        },
        "id": "pk_i-w2vHK3Z",
        "outputId": "c4aa3b19-06f3-4e7b-beae-3cd195a820dd"
      },
      "outputs": [
        {
          "output_type": "stream",
          "name": "stdout",
          "text": [
            "Looking in indexes: https://pypi.org/simple, https://us-python.pkg.dev/colab-wheels/public/simple/\n",
            "Collecting hypnettorch\n",
            "  Downloading hypnettorch-0.0.4-py3-none-any.whl (456 kB)\n",
            "\u001b[2K     \u001b[90m━━━━━━━━━━━━━━━━━━━━━━━━━━━━━━━━━━━━━━━\u001b[0m \u001b[32m456.9/456.9 kB\u001b[0m \u001b[31m2.0 MB/s\u001b[0m eta \u001b[36m0:00:00\u001b[0m\n",
            "\u001b[?25hInstalling collected packages: hypnettorch\n",
            "Successfully installed hypnettorch-0.0.4\n"
          ]
        }
      ],
      "source": [
        "!pip install hypnettorch"
      ]
    },
    {
      "cell_type": "code",
      "source": [
        "import numpy as np\n",
        "import torch\n",
        "from torch import nn\n",
        "\n",
        "device = 'cuda' if torch.cuda.is_available() else 'cpu'\n",
        "data_dir = '.'"
      ],
      "metadata": {
        "id": "xQS1bVbsHPsn"
      },
      "execution_count": null,
      "outputs": []
    },
    {
      "cell_type": "code",
      "source": [
        "from hypnettorch.data import MNISTData\n",
        "mnist = MNISTData(data_dir, use_one_hot=True, validation_size=0)\n",
        "mnist_inps, mnist_trgts = mnist.next_train_batch(4)\n",
        "mnist.plot_samples('MNIST Examples', mnist_inps, outputs=mnist_trgts)"
      ],
      "metadata": {
        "colab": {
          "base_uri": "https://localhost:8080/",
          "height": 657
        },
        "id": "XRVxyeeQHYyr",
        "outputId": "4dee8130-3d7a-43fb-9997-26ca73dc6dd8"
      },
      "execution_count": null,
      "outputs": [
        {
          "output_type": "stream",
          "name": "stdout",
          "text": [
            "Reading MNIST dataset ...\n",
            "Creating directory \"./MNIST\" ...\n",
            "Downloading training images ...\n",
            "Downloading training labels ...\n",
            "Downloading test images ...\n",
            "Downloading test labels ...\n",
            "Reading labels from ./MNIST/train-labels-idx1-ubyte.gz.\n",
            "Number of labels in current file: 60000\n",
            "Reading labels from ./MNIST/t10k-labels-idx1-ubyte.gz.\n",
            "Number of labels in current file: 10000\n",
            "Reading images from ./MNIST/train-images-idx3-ubyte.gz.\n",
            "Number of images in current file: 60000\n",
            "Reading images from ./MNIST/t10k-images-idx3-ubyte.gz.\n",
            "Number of images in current file: 10000\n",
            "Elapsed time to read dataset: 10.182186 sec\n"
          ]
        },
        {
          "output_type": "display_data",
          "data": {
            "text/plain": [
              "<Figure size 1000x600 with 4 Axes>"
            ],
            "image/png": "[encoded data removed]"
          },
          "metadata": {}
        }
      ]
    },
    {
      "cell_type": "code",
      "source": [
        "from hypnettorch.mnets import LeNet\n",
        "mnet = LeNet(in_shape=mnist.in_shape, num_classes=mnist.num_classes,\n",
        "             arch='mnist_small', no_weights=True).to(device)"
      ],
      "metadata": {
        "colab": {
          "base_uri": "https://localhost:8080/"
        },
        "id": "YaoqNOnHHpAK",
        "outputId": "ddbb29b5-ae0b-4f62-d7c2-32afcbec8e93"
      },
      "execution_count": null,
      "outputs": [
        {
          "output_type": "stream",
          "name": "stdout",
          "text": [
            "Creating a LeNet with 21840 weights.\n"
          ]
        }
      ]
    },
    {
      "cell_type": "code",
      "source": [
        "from hypnettorch.hnets import HMLP\n",
        "hnet = HMLP(mnet.param_shapes, uncond_in_size=0, cond_in_size=8,\n",
        "            layers=[100, 100], num_cond_embs=2).to(device)\n",
        "\n",
        "print()\n",
        "print('The randomly initialized input embeddings are:\\n', \n",
        "      hnet.conditional_params)\n",
        "\n",
        "# To produce main network weights for condition `0`, we can either pass\n",
        "# the corresponding condition ID, or the corresponding (internally maintained)\n",
        "# embedding to the `forward` of the hypernetwork.\n",
        "W0 = hnet.forward(cond_id=0)\n",
        "W0_tmp = hnet.forward(cond_input=hnet.conditional_params[0].view(1, -1))\n",
        "assert np.all([torch.equal(W0[i], W0_tmp[i]) for i in range(len(W0))])\n",
        "\n",
        "# Hypernetworks also allow batch processing.\n",
        "W_batch = hnet.forward(cond_id=[0, 0])\n",
        "assert np.all([torch.equal(W_batch[0][i], W_batch[1][i]) \\\n",
        "               for i in range(len(W0))])"
      ],
      "metadata": {
        "colab": {
          "base_uri": "https://localhost:8080/"
        },
        "id": "2fNJM6kYIAnW",
        "outputId": "d43bd26c-15b7-4f7e-f082-a3e6655caed4"
      },
      "execution_count": null,
      "outputs": [
        {
          "output_type": "stream",
          "name": "stdout",
          "text": [
            "Created MLP Hypernet.\n",
            "Hypernetwork with 2216856 weights and 21840 outputs (compression ratio: 101.50).\n",
            "The network consists of 2216840 unconditional weights (2216840 internally maintained) and 16 conditional weights (16 internally maintained).\n",
            "\n",
            "The randomly initialized input embeddings are:\n",
            " [Parameter containing:\n",
            "tensor([ 0.4891, -0.4851,  0.4709, -0.5650,  0.2966,  0.0513, -0.7459,  0.2384],\n",
            "       requires_grad=True), Parameter containing:\n",
            "tensor([-0.3030,  0.5743,  0.7870,  1.6803, -2.0452, -0.6947,  0.0759, -0.3387],\n",
            "       requires_grad=True)]\n"
          ]
        }
      ]
    },
    {
      "cell_type": "code",
      "source": [
        "hnet.apply_hyperfan_init(mnet=mnet)"
      ],
      "metadata": {
        "id": "454rWdMWIY-f"
      },
      "execution_count": null,
      "outputs": []
    },
    {
      "cell_type": "code",
      "source": [
        "# Get a batch of main network inputs.\n",
        "mnist_inps, _ = mnist.next_train_batch(4)\n",
        "X = mnist.input_to_torch_tensor(mnist_inps, device, mode='train')\n",
        "\n",
        "# Generate the main network weights for both conditions.\n",
        "W = hnet.forward(cond_id=[0, 1])\n",
        "\n",
        "Y0 = mnet.forward(X, weights=W[0])\n",
        "print('Predicted classes for condition 0: ', Y0.max(dim=1)[1])\n",
        "\n",
        "Y1 = mnet.forward(X, weights=W[1])\n",
        "print('Predicted classes for condition 1: ', Y1.max(dim=1)[1])"
      ],
      "metadata": {
        "colab": {
          "base_uri": "https://localhost:8080/"
        },
        "id": "O83nXP-qIaAY",
        "outputId": "49456612-c6d5-409f-d0f8-1cf8f1c3a3b3"
      },
      "execution_count": null,
      "outputs": [
        {
          "output_type": "stream",
          "name": "stdout",
          "text": [
            "Predicted classes for condition 0:  tensor([0, 0, 0, 0])\n",
            "Predicted classes for condition 1:  tensor([6, 6, 6, 6])\n"
          ]
        }
      ]
    },
    {
      "cell_type": "code",
      "source": [
        "def calc_accuracy(data, mnet, mnet_weights):\n",
        "    \"\"\"Compute the test accuracy for a given dataset\"\"\"\n",
        "    with torch.no_grad():\n",
        "        # Process complete test set as one batch.\n",
        "        test_in = data.input_to_torch_tensor( \\\n",
        "            data.get_test_inputs(), device, mode='inference')\n",
        "        test_out = data.input_to_torch_tensor( \\\n",
        "            data.get_test_outputs(), device, mode='inference')\n",
        "        test_lbls = test_out.max(dim=1)[1]\n",
        "\n",
        "        logits = mnet(test_in, weights=mnet_weights)\n",
        "        pred_lbls = logits.max(dim=1)[1]\n",
        "\n",
        "        acc = torch.sum(test_lbls == pred_lbls) / test_lbls.numel() * 100.\n",
        "\n",
        "    return acc\n",
        "\n",
        "# Configure training.\n",
        "lr=1e-4\n",
        "batchsize=32\n",
        "nepochs=10\n",
        "\n",
        "# Adam usually works well in combination with hypernetwork training.\n",
        "optimizer = torch.optim.Adam(hnet.internal_params, lr=lr)\n",
        "criterion = nn.CrossEntropyLoss()\n",
        "\n",
        "for epoch in range(nepochs): # For each epoch.\n",
        "\n",
        "    # Iterate over the whole MNIST/FashionMNIST training set.\n",
        "    # Note, that both datasets have the same number of training samples.\n",
        "    i = 0\n",
        "    for curr_batchsize, mx, my in mnist.train_iterator(batchsize):\n",
        "        i += 1\n",
        "\n",
        "        # Current mini-batch of MNIST samples.\n",
        "        mnist_X = mnist.input_to_torch_tensor(mx, device, mode='train')\n",
        "        mnist_Y = mnist.output_to_torch_tensor(my, device, mode='train')\n",
        "\n",
        "        optimizer.zero_grad()\n",
        "\n",
        "        # Compute MNIST loss.\n",
        "        W_mnist = hnet(cond_id=0)\n",
        "        mnist_P = mnet.forward(mnist_X, weights=W_mnist)\n",
        "        loss_mnist = criterion(mnist_P, mnist_Y.max(dim=1)[1])\n",
        "        \n",
        "        # The total loss is simply each task's loss combined.\n",
        "        loss = loss_mnist\n",
        "        loss.backward()\n",
        "        optimizer.step()\n",
        "\n",
        "        if i % 500 == 0:            \n",
        "            print('[%d, %5d] loss: %.3f, MNIST acc: %.2f%%' %\n",
        "                  (epoch + 1, i + 1, loss.item(), \n",
        "                   calc_accuracy(mnist, mnet, W_mnist)))\n",
        "\n",
        "print('Training finished with test-accs: MNIST acc: %.2f%%' % \\\n",
        "      (calc_accuracy(mnist, mnet, W_mnist)))"
      ],
      "metadata": {
        "colab": {
          "base_uri": "https://localhost:8080/"
        },
        "id": "-CioaVCnIrvC",
        "outputId": "46b0cb40-34d9-42fd-f77f-b944ff430cca"
      },
      "execution_count": null,
      "outputs": [
        {
          "output_type": "stream",
          "name": "stdout",
          "text": [
            "[1,   501] loss: 0.098, MNIST acc: 96.34%\n",
            "[1,  1001] loss: 0.043, MNIST acc: 96.56%\n",
            "[1,  1501] loss: 0.092, MNIST acc: 97.95%\n",
            "[2,   501] loss: 0.022, MNIST acc: 98.33%\n",
            "[2,  1001] loss: 0.014, MNIST acc: 98.59%\n",
            "[2,  1501] loss: 0.003, MNIST acc: 98.29%\n",
            "[3,   501] loss: 0.005, MNIST acc: 98.56%\n",
            "[3,  1001] loss: 0.036, MNIST acc: 98.73%\n",
            "[3,  1501] loss: 0.013, MNIST acc: 98.71%\n",
            "[4,   501] loss: 0.003, MNIST acc: 98.67%\n",
            "[4,  1001] loss: 0.008, MNIST acc: 98.04%\n",
            "[4,  1501] loss: 0.033, MNIST acc: 98.71%\n",
            "[5,   501] loss: 0.000, MNIST acc: 98.82%\n",
            "[5,  1001] loss: 0.017, MNIST acc: 98.86%\n",
            "[5,  1501] loss: 0.008, MNIST acc: 98.80%\n",
            "[6,   501] loss: 0.050, MNIST acc: 98.95%\n",
            "[6,  1001] loss: 0.021, MNIST acc: 99.17%\n",
            "[6,  1501] loss: 0.002, MNIST acc: 98.70%\n",
            "[7,   501] loss: 0.010, MNIST acc: 99.01%\n",
            "[7,  1001] loss: 0.000, MNIST acc: 98.70%\n",
            "[7,  1501] loss: 0.004, MNIST acc: 98.90%\n",
            "[8,   501] loss: 0.010, MNIST acc: 99.08%\n",
            "[8,  1001] loss: 0.017, MNIST acc: 99.08%\n",
            "[8,  1501] loss: 0.029, MNIST acc: 98.99%\n",
            "[9,   501] loss: 0.002, MNIST acc: 98.91%\n",
            "[9,  1001] loss: 0.002, MNIST acc: 98.95%\n",
            "[9,  1501] loss: 0.004, MNIST acc: 98.67%\n",
            "[10,   501] loss: 0.019, MNIST acc: 99.04%\n",
            "[10,  1001] loss: 0.003, MNIST acc: 99.08%\n",
            "[10,  1501] loss: 0.006, MNIST acc: 99.11%\n",
            "Training finished with test-accs: MNIST acc: 98.72%\n"
          ]
        }
      ]
    },
    {
      "cell_type": "code",
      "source": [
        "# Get a batch of test samples from each data handler.\n",
        "mnist_inps, mnist_trgts = mnist.next_test_batch(4)\n",
        "\n",
        "# Compute predictions for test batches above.\n",
        "with torch.no_grad():\n",
        "    mnist_X = mnist.input_to_torch_tensor(mnist_inps, device, mode='inference')\n",
        "    \n",
        "    W_mnist = hnet(cond_id=0)\n",
        "    mnist_preds = mnet.forward(mnist_X, weights=W_mnist)\n",
        "    \n",
        "    # Note, the network outputs are logits, and thus not normalized.\n",
        "    mnist_preds = torch.softmax(mnist_preds, dim=1)\n",
        "    mnist_preds = mnist_preds.detach().cpu().numpy()\n",
        "\n",
        "mnist.plot_samples('MNIST Examples', mnist_inps, outputs=mnist_trgts,\n",
        "                   predictions=mnist_preds)"
      ],
      "metadata": {
        "colab": {
          "base_uri": "https://localhost:8080/",
          "height": 582
        },
        "id": "yl0BQvFiMn4h",
        "outputId": "eb2d5ef0-3791-4250-f754-8fc23af09193"
      },
      "execution_count": null,
      "outputs": [
        {
          "output_type": "display_data",
          "data": {
            "text/plain": [
              "<Figure size 1000x600 with 8 Axes>"
            ],
            "image/png": "[encoded data removed]"
          },
          "metadata": {}
        }
      ]
    }
  ]
}